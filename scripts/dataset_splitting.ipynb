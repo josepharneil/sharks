{
  "nbformat": 4,
  "nbformat_minor": 0,
  "metadata": {
    "colab": {
      "name": "dataset-splitting.ipynb",
      "provenance": [],
      "collapsed_sections": [],
      "toc_visible": true
    },
    "kernelspec": {
      "name": "python3",
      "display_name": "Python 3"
    }
  },
  "cells": [
    {
      "cell_type": "code",
      "metadata": {
        "id": "ZGPY4mKwXItM",
        "colab_type": "code",
        "colab": {}
      },
      "source": [
        "import os\n",
        "import numpy as np\n",
        "import random"
      ],
      "execution_count": 0,
      "outputs": []
    },
    {
      "cell_type": "code",
      "metadata": {
        "id": "7_bhX86pXXrr",
        "colab_type": "code",
        "outputId": "bed4cde9-ed3b-48da-822d-46525fbc8dc9",
        "colab": {
          "base_uri": "https://localhost:8080/",
          "height": 118
        }
      },
      "source": [
        "from google.colab import drive\n",
        "drive.mount('/content/drive')"
      ],
      "execution_count": 2,
      "outputs": [
        {
          "output_type": "stream",
          "text": [
            "Go to this URL in a browser: https://accounts.google.com/o/oauth2/auth?client_id=947318989803-6bn6qk8qdgf4n4g3pfee6491hc0brc4i.apps.googleusercontent.com&redirect_uri=urn%3aietf%3awg%3aoauth%3a2.0%3aoob&response_type=code&scope=email%20https%3a%2f%2fwww.googleapis.com%2fauth%2fdocs.test%20https%3a%2f%2fwww.googleapis.com%2fauth%2fdrive%20https%3a%2f%2fwww.googleapis.com%2fauth%2fdrive.photos.readonly%20https%3a%2f%2fwww.googleapis.com%2fauth%2fpeopleapi.readonly\n",
            "\n",
            "Enter your authorization code:\n",
            "··········\n",
            "Mounted at /content/drive\n"
          ],
          "name": "stdout"
        }
      ]
    },
    {
      "cell_type": "code",
      "metadata": {
        "id": "HNbTofABc1HX",
        "colab_type": "code",
        "colab": {}
      },
      "source": [
        "# trainDirectory = \"/content/drive/My Drive/sharkdata/test_split/tra/\"\n",
        "# valDirectory = \"/content/drive/My Drive/sharkdata/test_split/val/\"\n",
        "\n",
        "trainDirectory = \"/content/drive/My Drive/sharkdata/all_data/train/\"\n",
        "valDirectory = \"/content/drive/My Drive/sharkdata/all_data/val/\""
      ],
      "execution_count": 0,
      "outputs": []
    },
    {
      "cell_type": "code",
      "metadata": {
        "id": "FxuE1QvxXYp9",
        "colab_type": "code",
        "outputId": "1f24ec73-d012-4757-dc87-37c866c44271",
        "colab": {
          "base_uri": "https://localhost:8080/",
          "height": 32
        }
      },
      "source": [
        "# Build the lists of filenames\n",
        "testFilenames = []\n",
        "trainFilenames = os.listdir(trainDirectory)\n",
        "for filename in trainFilenames:\n",
        "  # Eliminate files that are not long enough to be .jpg\n",
        "  if(len(filename) < 4):\n",
        "    trainFilenames.remove(filename)\n",
        "  if(filename[len(filename)-4: ] != \".jpg\"):\n",
        "    # Eliminate non-.jpg files\n",
        "    # os.remove(trainDirectory+filename)\n",
        "    print(\"remove?\", trainDirectory+filename)\n",
        "    print(\"eliminated\",filename)\n",
        "    trainFilenames.remove(filename)\n",
        "\n",
        "totalNumberOfFiles = len(trainFilenames)\n",
        "print(totalNumberOfFiles)"
      ],
      "execution_count": 20,
      "outputs": [
        {
          "output_type": "stream",
          "text": [
            "16988\n"
          ],
          "name": "stdout"
        }
      ]
    },
    {
      "cell_type": "code",
      "metadata": {
        "id": "T69oySC1zvL_",
        "colab_type": "code",
        "colab": {
          "base_uri": "https://localhost:8080/",
          "height": 49
        },
        "outputId": "278e81c5-5613-4f33-d824-89a68f480fc7"
      },
      "source": [
        "print(\"Checking file structure tra: \", len(os.listdir(trainDirectory)) )\n",
        "print(\"Checking file structure val: \", len(os.listdir(valDirectory)) )"
      ],
      "execution_count": 21,
      "outputs": [
        {
          "output_type": "stream",
          "text": [
            "Checking file structure tra:  16988\n",
            "Checking file structure val:  0\n"
          ],
          "name": "stdout"
        }
      ]
    },
    {
      "cell_type": "code",
      "metadata": {
        "id": "wE4J0DFGYFlz",
        "colab_type": "code",
        "colab": {}
      },
      "source": [
        "##### !WARNING! #####\n",
        "# This moves files!\n",
        "##### !WARNING! #####\n",
        "\n",
        "# Move one file to val\n",
        "for filename in random.sample(trainFilenames, 5096):\n",
        "  # Move the file\n",
        "  os.rename(trainDirectory+filename, valDirectory+filename)\n",
        "  # Keep track to make things easier to check\n",
        "  trainFilenames.remove(filename)\n",
        "  testFilenames.append(filename)"
      ],
      "execution_count": 0,
      "outputs": []
    },
    {
      "cell_type": "code",
      "metadata": {
        "id": "Q-W1RgM8q9BN",
        "colab_type": "code",
        "outputId": "a3856008-099c-49b2-b324-538392bb2e6a",
        "colab": {
          "base_uri": "https://localhost:8080/",
          "height": 148
        }
      },
      "source": [
        "print(\"Length of train filenames: \", len(trainFilenames), \" -> Expect near 11,891.6\")\n",
        "print(\"Checking file structure tra: \", len(os.listdir(trainDirectory)) )\n",
        "print()\n",
        "print(\"Length of test filenames: \", len(testFilenames), \" -> Expect near 5,096.4\")\n",
        "print(\"Checking file structure val: \", len(os.listdir(valDirectory)) )\n",
        "print()\n",
        "print(\"Proportion of dataset that is train: \", (len(trainFilenames)/totalNumberOfFiles))\n",
        "print(\"Proportion of dataset that is val: \", (len(testFilenames)/totalNumberOfFiles))"
      ],
      "execution_count": 23,
      "outputs": [
        {
          "output_type": "stream",
          "text": [
            "Length of train filenames:  11892  -> Expect near 11,891.6\n",
            "Checking file structure tra:  11892\n",
            "\n",
            "Length of test filenames:  5096  -> Expect near 5,096.4\n",
            "Checking file structure val:  5096\n",
            "\n",
            "Proportion of dataset that is train:  0.7000235460324935\n",
            "Proportion of dataset that is val:  0.2999764539675065\n"
          ],
          "name": "stdout"
        }
      ]
    },
    {
      "cell_type": "code",
      "metadata": {
        "id": "Pilenayqcr4_",
        "colab_type": "code",
        "outputId": "474b471d-b2da-4feb-e8e4-3fa35e9a5e84",
        "colab": {
          "base_uri": "https://localhost:8080/",
          "height": 82
        }
      },
      "source": [
        "def MoveBackFiles():\n",
        "  valFilenames = os.listdir(valDirectory)\n",
        "  for filename in valFilenames:\n",
        "    # print(filename)\n",
        "    os.rename(valDirectory+filename, trainDirectory+filename)\n",
        "\n",
        "  print(\"Length of train filenames: \", len(trainFilenames))\n",
        "  print(\"Checking file structure tra: \", len(os.listdir(trainDirectory)) )\n",
        "\n",
        "  print(\"Length of test filenames: \", len(testFilenames))\n",
        "  print(\"Checking file structure val: \", len(os.listdir(valDirectory)) )\n",
        "\n",
        "# MoveBackFiles()"
      ],
      "execution_count": 12,
      "outputs": [
        {
          "output_type": "stream",
          "text": [
            "Length of train filenames:  11890\n",
            "Checking file structure tra:  16989\n",
            "Length of test filenames:  5096\n",
            "Checking file structure val:  0\n"
          ],
          "name": "stdout"
        }
      ]
    },
    {
      "cell_type": "code",
      "metadata": {
        "id": "8VRPxyfl1mPF",
        "colab_type": "code",
        "colab": {
          "base_uri": "https://localhost:8080/",
          "height": 49
        },
        "outputId": "d77016b6-d0b1-42da-eb17-30a96995ab85"
      },
      "source": [
        "import shutil\n",
        "# Resetting:\n",
        "# Copy the data.json in\n",
        "source = \"/content/drive/My Drive/sharkdata/all_data/data.json\"\n",
        "\n",
        "shutil.copyfile(source, trainDirectory+\"data.json\")\n",
        "shutil.copyfile(source, valDirectory +\"data.json\")\n",
        "\n",
        "print(\"Checking file structure tra: \", len(os.listdir(trainDirectory)) )\n",
        "print(\"Checking file structure val: \", len(os.listdir(valDirectory)) )"
      ],
      "execution_count": 24,
      "outputs": [
        {
          "output_type": "stream",
          "text": [
            "Checking file structure tra:  11893\n",
            "Checking file structure val:  5097\n"
          ],
          "name": "stdout"
        }
      ]
    },
    {
      "cell_type": "code",
      "metadata": {
        "id": "qZF2-bkxdeq2",
        "colab_type": "code",
        "outputId": "f7ce8fdc-5234-408d-8366-d617b679d960",
        "colab": {
          "base_uri": "https://localhost:8080/",
          "height": 131
        }
      },
      "source": [
        "import json\n",
        "# Modify json files\n",
        "\n",
        "print(len(trainFilenames))\n",
        "print(len(testFilenames))\n",
        "\n",
        "with open(trainDirectory+\"data.json\", \"r\") as trainJsonFile:\n",
        "    trainData = json.load(trainJsonFile)\n",
        "\n",
        "with open(valDirectory+\"data.json\", \"r\") as valJsonFile:\n",
        "    valData = json.load(valJsonFile)\n",
        "\n",
        "print(len(trainData))\n",
        "print(len(valData))\n",
        "\n",
        "# Remove test entries from the traindata\n",
        "\n",
        "ctr=0\n",
        "tmpTrain = trainData.copy()\n",
        "# Go through the trainData list of dictionaries\n",
        "for dictionary in trainData:\n",
        "  # Get the filename of the current dictionary\n",
        "  filename = dictionary[\"imId\"] + \".jpg\"\n",
        "  # If the current filename is actually a test file\n",
        "  if(filename in testFilenames):\n",
        "    # Remove this from this list\n",
        "    tmpTrain.remove(dictionary)\n",
        "    ctr = ctr +1\n",
        "\n",
        "print(\"removed from training data:\",ctr)\n",
        "\n",
        "# Remove test entries from the traindata\n",
        "\n",
        "tmpVal = valData.copy()\n",
        "# Go through the trainData list of dictionaries\n",
        "for dictionary in valData:\n",
        "  # Get the filename of the current dictionary\n",
        "  filename = dictionary[\"imId\"] + \".jpg\"\n",
        "  # If the current filename is actually a training file\n",
        "  if(filename in trainFilenames):\n",
        "    # Remove this from this list\n",
        "    tmpVal.remove(dictionary)\n",
        "\n",
        "\n",
        "print(len(tmpTrain),\"expect 11892\")\n",
        "print(len(tmpVal),\"expect 5096\")\n",
        "\n",
        "\n",
        "with open(trainDirectory+\"data.json\", \"w\") as trainJsonFile:\n",
        "    json.dump(tmpTrain,trainJsonFile)\n",
        "\n",
        "with open(valDirectory+\"data.json\", \"w\") as valJsonFile:\n",
        "    json.dump(tmpVal,valJsonFile)\n",
        "\n",
        "\n",
        "\n",
        "# with open(\"/content/drive/My Drive/sharkdata/test_split/data.json\", \"w\") as jsonFile:\n",
        "#     json.dump(data, jsonFile)\n",
        "\n"
      ],
      "execution_count": 25,
      "outputs": [
        {
          "output_type": "stream",
          "text": [
            "11892\n",
            "5096\n",
            "16988\n",
            "16988\n",
            "removed from training data: 5096\n",
            "11892 expect 11890\n",
            "5096 expect 5096\n"
          ],
          "name": "stdout"
        }
      ]
    }
  ]
}