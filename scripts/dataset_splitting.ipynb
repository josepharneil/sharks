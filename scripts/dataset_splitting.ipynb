{
  "nbformat": 4,
  "nbformat_minor": 0,
  "metadata": {
    "colab": {
      "name": "dataset-splitting.ipynb",
      "provenance": [],
      "collapsed_sections": [],
      "toc_visible": true
    },
    "kernelspec": {
      "name": "python3",
      "display_name": "Python 3"
    }
  },
  "cells": [
    {
      "cell_type": "code",
      "metadata": {
        "id": "ZGPY4mKwXItM",
        "colab_type": "code",
        "colab": {}
      },
      "source": [
        "import os\n",
        "import numpy as np\n",
        "import random"
      ],
      "execution_count": 0,
      "outputs": []
    },
    {
      "cell_type": "code",
      "metadata": {
        "id": "7_bhX86pXXrr",
        "colab_type": "code",
        "outputId": "e3faa7ea-8668-4365-df9f-d9ed62171c94",
        "colab": {
          "base_uri": "https://localhost:8080/",
          "height": 32
        }
      },
      "source": [
        "from google.colab import drive\n",
        "drive.mount('/content/drive')"
      ],
      "execution_count": 17,
      "outputs": [
        {
          "output_type": "stream",
          "text": [
            "Drive already mounted at /content/drive; to attempt to forcibly remount, call drive.mount(\"/content/drive\", force_remount=True).\n"
          ],
          "name": "stdout"
        }
      ]
    },
    {
      "cell_type": "code",
      "metadata": {
        "id": "HNbTofABc1HX",
        "colab_type": "code",
        "colab": {}
      },
      "source": [
        "# trainDirectory = \"/content/drive/My Drive/sharkdata/test_split/tra/\"\n",
        "# valDirectory = \"/content/drive/My Drive/sharkdata/test_split/val/\"\n",
        "\n",
        "trainDirectory = \"/content/drive/My Drive/sharkdata/all_data/train/\"\n",
        "valDirectory = \"/content/drive/My Drive/sharkdata/all_data/val/\""
      ],
      "execution_count": 0,
      "outputs": []
    },
    {
      "cell_type": "code",
      "metadata": {
        "id": "FxuE1QvxXYp9",
        "colab_type": "code",
        "outputId": "a2d43220-1381-48f6-dbc9-28f7bbc88f7b",
        "colab": {
          "base_uri": "https://localhost:8080/",
          "height": 65
        }
      },
      "source": [
        "# Build the lists of filenames\n",
        "testFilenames = []\n",
        "trainFilenames = os.listdir(trainDirectory)\n",
        "for filename in trainFilenames:\n",
        "  # Eliminate files that are not long enough to be .jpg\n",
        "  if(len(filename) < 4):\n",
        "    trainFilenames.remove(filename)\n",
        "  if(filename[len(filename)-4: ] != \".jpg\"):\n",
        "    # Eliminate non-.jpg files\n",
        "    trainFilenames.remove(filename)\n",
        "\n",
        "totalNumberOfFiles = len(trainFilenames)\n",
        "print(totalNumberOfFiles)"
      ],
      "execution_count": 5,
      "outputs": [
        {
          "output_type": "stream",
          "text": [
            "16986\n",
            "Checking file structure tra:  16987\n",
            "Checking file structure val:  1\n"
          ],
          "name": "stdout"
        }
      ]
    },
    {
      "cell_type": "code",
      "metadata": {
        "id": "T69oySC1zvL_",
        "colab_type": "code",
        "colab": {
          "base_uri": "https://localhost:8080/",
          "height": 49
        },
        "outputId": "c8615a31-f1e2-41c5-c82a-4d922b7ae988"
      },
      "source": [
        "print(\"Checking file structure tra: \", len(os.listdir(trainDirectory)) )\n",
        "print(\"Checking file structure val: \", len(os.listdir(valDirectory)) )"
      ],
      "execution_count": 6,
      "outputs": [
        {
          "output_type": "stream",
          "text": [
            "Checking file structure tra:  16987\n",
            "Checking file structure val:  1\n"
          ],
          "name": "stdout"
        }
      ]
    },
    {
      "cell_type": "code",
      "metadata": {
        "id": "wE4J0DFGYFlz",
        "colab_type": "code",
        "colab": {}
      },
      "source": [
        "##### !WARNING! #####\n",
        "# This moves files!\n",
        "##### !WARNING! #####\n",
        "\n",
        "# Move one file to val\n",
        "for filename in random.sample(trainFilenames, 5096):\n",
        "  # Move the file\n",
        "  os.rename(trainDirectory+filename, valDirectory+filename)\n",
        "  # Keep track to make things easier to check\n",
        "  trainFilenames.remove(filename)\n",
        "  testFilenames.append(filename)"
      ],
      "execution_count": 0,
      "outputs": []
    },
    {
      "cell_type": "code",
      "metadata": {
        "id": "Q-W1RgM8q9BN",
        "colab_type": "code",
        "outputId": "f1cb668a-8d63-43ac-9a2d-17f1b789eea4",
        "colab": {
          "base_uri": "https://localhost:8080/",
          "height": 148
        }
      },
      "source": [
        "print(\"Length of train filenames: \", len(trainFilenames), \" -> Expect near 11,890.2\")\n",
        "print(\"Checking file structure tra: \", len(os.listdir(trainDirectory)) )\n",
        "print()\n",
        "print(\"Length of test filenames: \", len(testFilenames), \" -> Expect near 5,095.8\")\n",
        "print(\"Checking file structure val: \", len(os.listdir(valDirectory)) )\n",
        "print()\n",
        "print(\"Proportion of dataset that is train: \", (len(trainFilenames)/totalNumberOfFiles))\n",
        "print(\"Proportion of dataset that is val: \", (len(testFilenames)/totalNumberOfFiles))"
      ],
      "execution_count": 25,
      "outputs": [
        {
          "output_type": "stream",
          "text": [
            "Length of train filenames:  11890  -> Expect near 11,890.2\n",
            "Checking file structure tra:  117\n",
            "\n",
            "Length of test filenames:  5096  -> Expect near 5,095.8\n",
            "Checking file structure val:  0\n",
            "\n",
            "Proportion of dataset that is train:  0.6999882255975509\n",
            "Proportion of dataset that is val:  0.3000117744024491\n"
          ],
          "name": "stdout"
        }
      ]
    },
    {
      "cell_type": "code",
      "metadata": {
        "id": "Pilenayqcr4_",
        "colab_type": "code",
        "outputId": "da8197f3-2321-4a47-9135-5ebb1ac89620",
        "colab": {
          "base_uri": "https://localhost:8080/",
          "height": 82
        }
      },
      "source": [
        "def MoveBackFiles():\n",
        "  valFilenames = os.listdir(valDirectory)\n",
        "  for filename in valFilenames:\n",
        "    # print(filename)\n",
        "    os.rename(valDirectory+filename, trainDirectory+filename)\n",
        "\n",
        "  print(\"Length of train filenames: \", len(trainFilenames))\n",
        "  print(\"Checking file structure tra: \", len(os.listdir(trainDirectory)) )\n",
        "\n",
        "  print(\"Length of test filenames: \", len(testFilenames))\n",
        "  print(\"Checking file structure val: \", len(os.listdir(valDirectory)) )\n",
        "\n",
        "MoveBackFiles()"
      ],
      "execution_count": 22,
      "outputs": [
        {
          "output_type": "stream",
          "text": [
            "Length of train filenames:  11890\n",
            "Checking file structure tra:  16987\n",
            "Length of test filenames:  5096\n",
            "Checking file structure val:  0\n"
          ],
          "name": "stdout"
        }
      ]
    },
    {
      "cell_type": "code",
      "metadata": {
        "id": "8VRPxyfl1mPF",
        "colab_type": "code",
        "colab": {
          "base_uri": "https://localhost:8080/",
          "height": 49
        },
        "outputId": "55da2784-ff9a-4f14-99cc-fa2b04e830e7"
      },
      "source": [
        "import shutil\n",
        "# Resetting:\n",
        "# Copy the data.json in\n",
        "source = \"/content/drive/My Drive/sharkdata/all_data/data.json\"\n",
        "\n",
        "shutil.copyfile(source, trainDirectory+\"data.json\")\n",
        "shutil.copyfile(source, valDirectory +\"data.json\")\n",
        "\n",
        "print(\"Checking file structure tra: \", len(os.listdir(trainDirectory)) )\n",
        "print(\"Checking file structure val: \", len(os.listdir(valDirectory)) )"
      ],
      "execution_count": 24,
      "outputs": [
        {
          "output_type": "stream",
          "text": [
            "Checking file structure tra:  16987\n",
            "Checking file structure val:  1\n"
          ],
          "name": "stdout"
        }
      ]
    },
    {
      "cell_type": "code",
      "metadata": {
        "id": "qZF2-bkxdeq2",
        "colab_type": "code",
        "outputId": "f0b5a265-1846-4225-cfe4-f9c37ab0c4f1",
        "colab": {
          "base_uri": "https://localhost:8080/",
          "height": 131
        }
      },
      "source": [
        "import json\n",
        "# Modify json files\n",
        "\n",
        "print(len(trainFilenames))\n",
        "print(len(testFilenames))\n",
        "\n",
        "with open(trainDirectory+\"data.json\", \"r\") as trainJsonFile:\n",
        "    trainData = json.load(trainJsonFile)\n",
        "\n",
        "with open(valDirectory+\"data.json\", \"r\") as valJsonFile:\n",
        "    valData = json.load(valJsonFile)\n",
        "\n",
        "print(len(trainData))\n",
        "print(len(valData))\n",
        "\n",
        "# Remove test entries from the traindata\n",
        "\n",
        "ctr=0\n",
        "tmpTrain = trainData.copy()\n",
        "# Go through the trainData list of dictionaries\n",
        "for dictionary in trainData:\n",
        "  # Get the filename of the current dictionary\n",
        "  filename = dictionary[\"imId\"] + \".jpg\"\n",
        "  # If the current filename is actually a test file\n",
        "  if(filename in testFilenames):\n",
        "    # Remove this from this list\n",
        "    tmpTrain.remove(dictionary)\n",
        "    ctr = ctr +1\n",
        "\n",
        "print(\"removed from training data:\",ctr)\n",
        "\n",
        "# Remove test entries from the traindata\n",
        "\n",
        "tmpVal = valData.copy()\n",
        "# Go through the trainData list of dictionaries\n",
        "for dictionary in valData:\n",
        "  # Get the filename of the current dictionary\n",
        "  filename = dictionary[\"imId\"] + \".jpg\"\n",
        "  # If the current filename is actually a training file\n",
        "  if(filename in trainFilenames):\n",
        "    # Remove this from this list\n",
        "    tmpVal.remove(dictionary)\n",
        "\n",
        "\n",
        "print(len(tmpTrain),\"expect 11890\")\n",
        "print(len(tmpVal),\"expect 5096\")\n",
        "\n",
        "\n",
        "with open(trainDirectory+\"data.json\", \"w\") as trainJsonFile:\n",
        "    json.dump(tmpTrain,trainJsonFile)\n",
        "\n",
        "with open(valDirectory+\"data.json\", \"w\") as valJsonFile:\n",
        "    json.dump(tmpVal,valJsonFile)\n",
        "\n",
        "\n",
        "\n",
        "# with open(\"/content/drive/My Drive/sharkdata/test_split/data.json\", \"w\") as jsonFile:\n",
        "#     json.dump(data, jsonFile)\n",
        "\n"
      ],
      "execution_count": 12,
      "outputs": [
        {
          "output_type": "stream",
          "text": [
            "11890\n",
            "5096\n",
            "16988\n",
            "16988\n",
            "removed from training data: 5096\n",
            "11892 expect 11890\n",
            "5098 expect 5096\n"
          ],
          "name": "stdout"
        }
      ]
    },
    {
      "cell_type": "code",
      "metadata": {
        "id": "izXNjTYfprXI",
        "colab_type": "code",
        "colab": {}
      },
      "source": [
        ""
      ],
      "execution_count": 0,
      "outputs": []
    },
    {
      "cell_type": "code",
      "metadata": {
        "id": "bWVc_3V0s4OX",
        "colab_type": "code",
        "colab": {}
      },
      "source": [
        ""
      ],
      "execution_count": 0,
      "outputs": []
    }
  ]
}